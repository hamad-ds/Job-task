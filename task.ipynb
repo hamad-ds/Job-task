{
  "nbformat": 4,
  "nbformat_minor": 0,
  "metadata": {
    "colab": {
      "name": "task.ipynb",
      "provenance": [],
      "collapsed_sections": [],
      "toc_visible": true
    },
    "kernelspec": {
      "name": "python3",
      "display_name": "Python 3"
    },
    "language_info": {
      "name": "python"
    }
  },
  "cells": [
    {
      "cell_type": "code",
      "metadata": {
        "id": "LLermdFMdRFt"
      },
      "source": [
        "import pandas as pd\n",
        "import matplotlib.dates as dates\n",
        "from datetime import datetime\n",
        "import matplotlib.pyplot as plt"
      ],
      "execution_count": 1,
      "outputs": []
    },
    {
      "cell_type": "code",
      "metadata": {
        "id": "T6DVaGMjdj_N"
      },
      "source": [
        "data = pd.read_csv(\"temperatures.csv\") "
      ],
      "execution_count": 2,
      "outputs": []
    },
    {
      "cell_type": "code",
      "metadata": {
        "colab": {
          "base_uri": "https://localhost:8080/",
          "height": 347
        },
        "id": "h8WfDqWyiF-v",
        "outputId": "4f8f91b7-1256-47b9-a109-d59c0761c3c4"
      },
      "source": [
        "data.head(10)"
      ],
      "execution_count": 3,
      "outputs": [
        {
          "output_type": "execute_result",
          "data": {
            "text/html": [
              "<div>\n",
              "<style scoped>\n",
              "    .dataframe tbody tr th:only-of-type {\n",
              "        vertical-align: middle;\n",
              "    }\n",
              "\n",
              "    .dataframe tbody tr th {\n",
              "        vertical-align: top;\n",
              "    }\n",
              "\n",
              "    .dataframe thead th {\n",
              "        text-align: right;\n",
              "    }\n",
              "</style>\n",
              "<table border=\"1\" class=\"dataframe\">\n",
              "  <thead>\n",
              "    <tr style=\"text-align: right;\">\n",
              "      <th></th>\n",
              "      <th>Produkt_Code</th>\n",
              "      <th>SDO_ID</th>\n",
              "      <th>Zeitstempel</th>\n",
              "      <th>Wert</th>\n",
              "      <th>Qualitaet_Niveau</th>\n",
              "      <th>Qualitaet_Byte</th>\n",
              "    </tr>\n",
              "  </thead>\n",
              "  <tbody>\n",
              "    <tr>\n",
              "      <th>0</th>\n",
              "      <td>TT_TU_MN009</td>\n",
              "      <td>2014</td>\n",
              "      <td>201501010000</td>\n",
              "      <td>3.4</td>\n",
              "      <td>7</td>\n",
              "      <td>6</td>\n",
              "    </tr>\n",
              "    <tr>\n",
              "      <th>1</th>\n",
              "      <td>TT_TU_MN009</td>\n",
              "      <td>2014</td>\n",
              "      <td>201501010100</td>\n",
              "      <td>3.1</td>\n",
              "      <td>7</td>\n",
              "      <td>6</td>\n",
              "    </tr>\n",
              "    <tr>\n",
              "      <th>2</th>\n",
              "      <td>TT_TU_MN009</td>\n",
              "      <td>2014</td>\n",
              "      <td>201501010200</td>\n",
              "      <td>2.6</td>\n",
              "      <td>7</td>\n",
              "      <td>1</td>\n",
              "    </tr>\n",
              "    <tr>\n",
              "      <th>3</th>\n",
              "      <td>TT_TU_MN009</td>\n",
              "      <td>2014</td>\n",
              "      <td>201501010300</td>\n",
              "      <td>2.8</td>\n",
              "      <td>7</td>\n",
              "      <td>1</td>\n",
              "    </tr>\n",
              "    <tr>\n",
              "      <th>4</th>\n",
              "      <td>TT_TU_MN009</td>\n",
              "      <td>2014</td>\n",
              "      <td>201501010400</td>\n",
              "      <td>2.5</td>\n",
              "      <td>7</td>\n",
              "      <td>1</td>\n",
              "    </tr>\n",
              "    <tr>\n",
              "      <th>5</th>\n",
              "      <td>TT_TU_MN009</td>\n",
              "      <td>2014</td>\n",
              "      <td>201501010500</td>\n",
              "      <td>2.0</td>\n",
              "      <td>7</td>\n",
              "      <td>1</td>\n",
              "    </tr>\n",
              "    <tr>\n",
              "      <th>6</th>\n",
              "      <td>TT_TU_MN009</td>\n",
              "      <td>2014</td>\n",
              "      <td>201501010600</td>\n",
              "      <td>1.9</td>\n",
              "      <td>7</td>\n",
              "      <td>1</td>\n",
              "    </tr>\n",
              "    <tr>\n",
              "      <th>7</th>\n",
              "      <td>TT_TU_MN009</td>\n",
              "      <td>2014</td>\n",
              "      <td>201501010700</td>\n",
              "      <td>1.4</td>\n",
              "      <td>7</td>\n",
              "      <td>1</td>\n",
              "    </tr>\n",
              "    <tr>\n",
              "      <th>8</th>\n",
              "      <td>TT_TU_MN009</td>\n",
              "      <td>2014</td>\n",
              "      <td>201501010800</td>\n",
              "      <td>1.5</td>\n",
              "      <td>7</td>\n",
              "      <td>1</td>\n",
              "    </tr>\n",
              "    <tr>\n",
              "      <th>9</th>\n",
              "      <td>TT_TU_MN009</td>\n",
              "      <td>2014</td>\n",
              "      <td>201501010900</td>\n",
              "      <td>2.3</td>\n",
              "      <td>7</td>\n",
              "      <td>1</td>\n",
              "    </tr>\n",
              "  </tbody>\n",
              "</table>\n",
              "</div>"
            ],
            "text/plain": [
              "  Produkt_Code  SDO_ID   Zeitstempel  Wert  Qualitaet_Niveau  Qualitaet_Byte\n",
              "0  TT_TU_MN009    2014  201501010000   3.4                 7               6\n",
              "1  TT_TU_MN009    2014  201501010100   3.1                 7               6\n",
              "2  TT_TU_MN009    2014  201501010200   2.6                 7               1\n",
              "3  TT_TU_MN009    2014  201501010300   2.8                 7               1\n",
              "4  TT_TU_MN009    2014  201501010400   2.5                 7               1\n",
              "5  TT_TU_MN009    2014  201501010500   2.0                 7               1\n",
              "6  TT_TU_MN009    2014  201501010600   1.9                 7               1\n",
              "7  TT_TU_MN009    2014  201501010700   1.4                 7               1\n",
              "8  TT_TU_MN009    2014  201501010800   1.5                 7               1\n",
              "9  TT_TU_MN009    2014  201501010900   2.3                 7               1"
            ]
          },
          "metadata": {
            "tags": []
          },
          "execution_count": 3
        }
      ]
    },
    {
      "cell_type": "markdown",
      "metadata": {
        "id": "FXfWhQ9qwoAZ"
      },
      "source": [
        "**Convert time steps to 15 minutes intervel**"
      ]
    },
    {
      "cell_type": "code",
      "metadata": {
        "id": "hZCA6--UzyTr"
      },
      "source": [
        "taskdata = data[['Zeitstempel', 'Wert']].copy()\n",
        "taskdata['Date'] =  pd.to_datetime(taskdata['Zeitstempel'], format='%Y%m%d%H%M')\n",
        "taskdata = taskdata[['Date', 'Wert']].copy()\n",
        "taskdata['Date']= pd.to_datetime(taskdata['Date'])"
      ],
      "execution_count": 4,
      "outputs": []
    },
    {
      "cell_type": "code",
      "metadata": {
        "colab": {
          "base_uri": "https://localhost:8080/",
          "height": 197
        },
        "id": "A7hFuVDFbwbA",
        "outputId": "2326b9ad-3cef-4b1f-8b5e-b14184a2f165"
      },
      "source": [
        "taskdata.head()"
      ],
      "execution_count": 5,
      "outputs": [
        {
          "output_type": "execute_result",
          "data": {
            "text/html": [
              "<div>\n",
              "<style scoped>\n",
              "    .dataframe tbody tr th:only-of-type {\n",
              "        vertical-align: middle;\n",
              "    }\n",
              "\n",
              "    .dataframe tbody tr th {\n",
              "        vertical-align: top;\n",
              "    }\n",
              "\n",
              "    .dataframe thead th {\n",
              "        text-align: right;\n",
              "    }\n",
              "</style>\n",
              "<table border=\"1\" class=\"dataframe\">\n",
              "  <thead>\n",
              "    <tr style=\"text-align: right;\">\n",
              "      <th></th>\n",
              "      <th>Date</th>\n",
              "      <th>Wert</th>\n",
              "    </tr>\n",
              "  </thead>\n",
              "  <tbody>\n",
              "    <tr>\n",
              "      <th>0</th>\n",
              "      <td>2015-01-01 00:00:00</td>\n",
              "      <td>3.4</td>\n",
              "    </tr>\n",
              "    <tr>\n",
              "      <th>1</th>\n",
              "      <td>2015-01-01 01:00:00</td>\n",
              "      <td>3.1</td>\n",
              "    </tr>\n",
              "    <tr>\n",
              "      <th>2</th>\n",
              "      <td>2015-01-01 02:00:00</td>\n",
              "      <td>2.6</td>\n",
              "    </tr>\n",
              "    <tr>\n",
              "      <th>3</th>\n",
              "      <td>2015-01-01 03:00:00</td>\n",
              "      <td>2.8</td>\n",
              "    </tr>\n",
              "    <tr>\n",
              "      <th>4</th>\n",
              "      <td>2015-01-01 04:00:00</td>\n",
              "      <td>2.5</td>\n",
              "    </tr>\n",
              "  </tbody>\n",
              "</table>\n",
              "</div>"
            ],
            "text/plain": [
              "                 Date  Wert\n",
              "0 2015-01-01 00:00:00   3.4\n",
              "1 2015-01-01 01:00:00   3.1\n",
              "2 2015-01-01 02:00:00   2.6\n",
              "3 2015-01-01 03:00:00   2.8\n",
              "4 2015-01-01 04:00:00   2.5"
            ]
          },
          "metadata": {
            "tags": []
          },
          "execution_count": 5
        }
      ]
    },
    {
      "cell_type": "code",
      "metadata": {
        "id": "my_x6ZnAiT6Q"
      },
      "source": [
        "taskdata = taskdata.resample('15Min',on='Date').mean()"
      ],
      "execution_count": 6,
      "outputs": []
    },
    {
      "cell_type": "code",
      "metadata": {
        "colab": {
          "base_uri": "https://localhost:8080/",
          "height": 227
        },
        "id": "07aCnRmLOfiI",
        "outputId": "bc590ab3-2760-4ad8-8c6d-34f4bf4499f2"
      },
      "source": [
        "taskdata.head()"
      ],
      "execution_count": 7,
      "outputs": [
        {
          "output_type": "execute_result",
          "data": {
            "text/html": [
              "<div>\n",
              "<style scoped>\n",
              "    .dataframe tbody tr th:only-of-type {\n",
              "        vertical-align: middle;\n",
              "    }\n",
              "\n",
              "    .dataframe tbody tr th {\n",
              "        vertical-align: top;\n",
              "    }\n",
              "\n",
              "    .dataframe thead th {\n",
              "        text-align: right;\n",
              "    }\n",
              "</style>\n",
              "<table border=\"1\" class=\"dataframe\">\n",
              "  <thead>\n",
              "    <tr style=\"text-align: right;\">\n",
              "      <th></th>\n",
              "      <th>Wert</th>\n",
              "    </tr>\n",
              "    <tr>\n",
              "      <th>Date</th>\n",
              "      <th></th>\n",
              "    </tr>\n",
              "  </thead>\n",
              "  <tbody>\n",
              "    <tr>\n",
              "      <th>2015-01-01 00:00:00</th>\n",
              "      <td>3.4</td>\n",
              "    </tr>\n",
              "    <tr>\n",
              "      <th>2015-01-01 00:15:00</th>\n",
              "      <td>NaN</td>\n",
              "    </tr>\n",
              "    <tr>\n",
              "      <th>2015-01-01 00:30:00</th>\n",
              "      <td>NaN</td>\n",
              "    </tr>\n",
              "    <tr>\n",
              "      <th>2015-01-01 00:45:00</th>\n",
              "      <td>NaN</td>\n",
              "    </tr>\n",
              "    <tr>\n",
              "      <th>2015-01-01 01:00:00</th>\n",
              "      <td>3.1</td>\n",
              "    </tr>\n",
              "  </tbody>\n",
              "</table>\n",
              "</div>"
            ],
            "text/plain": [
              "                     Wert\n",
              "Date                     \n",
              "2015-01-01 00:00:00   3.4\n",
              "2015-01-01 00:15:00   NaN\n",
              "2015-01-01 00:30:00   NaN\n",
              "2015-01-01 00:45:00   NaN\n",
              "2015-01-01 01:00:00   3.1"
            ]
          },
          "metadata": {
            "tags": []
          },
          "execution_count": 7
        }
      ]
    },
    {
      "cell_type": "markdown",
      "metadata": {
        "id": "vzEfGkK2w7yC"
      },
      "source": [
        "**Data Interpolution**"
      ]
    },
    {
      "cell_type": "code",
      "metadata": {
        "id": "3sc5Bt_3PfHC"
      },
      "source": [
        "interpolate_data = taskdata.interpolate(method='spline', order=3).round(1)"
      ],
      "execution_count": 8,
      "outputs": []
    },
    {
      "cell_type": "code",
      "metadata": {
        "colab": {
          "base_uri": "https://localhost:8080/",
          "height": 227
        },
        "id": "bFLaa_eSYYAV",
        "outputId": "3bd2cb73-2122-43c0-91b0-7d427a8a3fef"
      },
      "source": [
        "interpolate_data.head()"
      ],
      "execution_count": 9,
      "outputs": [
        {
          "output_type": "execute_result",
          "data": {
            "text/html": [
              "<div>\n",
              "<style scoped>\n",
              "    .dataframe tbody tr th:only-of-type {\n",
              "        vertical-align: middle;\n",
              "    }\n",
              "\n",
              "    .dataframe tbody tr th {\n",
              "        vertical-align: top;\n",
              "    }\n",
              "\n",
              "    .dataframe thead th {\n",
              "        text-align: right;\n",
              "    }\n",
              "</style>\n",
              "<table border=\"1\" class=\"dataframe\">\n",
              "  <thead>\n",
              "    <tr style=\"text-align: right;\">\n",
              "      <th></th>\n",
              "      <th>Wert</th>\n",
              "    </tr>\n",
              "    <tr>\n",
              "      <th>Date</th>\n",
              "      <th></th>\n",
              "    </tr>\n",
              "  </thead>\n",
              "  <tbody>\n",
              "    <tr>\n",
              "      <th>2015-01-01 00:00:00</th>\n",
              "      <td>3.4</td>\n",
              "    </tr>\n",
              "    <tr>\n",
              "      <th>2015-01-01 00:15:00</th>\n",
              "      <td>3.3</td>\n",
              "    </tr>\n",
              "    <tr>\n",
              "      <th>2015-01-01 00:30:00</th>\n",
              "      <td>3.2</td>\n",
              "    </tr>\n",
              "    <tr>\n",
              "      <th>2015-01-01 00:45:00</th>\n",
              "      <td>3.1</td>\n",
              "    </tr>\n",
              "    <tr>\n",
              "      <th>2015-01-01 01:00:00</th>\n",
              "      <td>3.1</td>\n",
              "    </tr>\n",
              "  </tbody>\n",
              "</table>\n",
              "</div>"
            ],
            "text/plain": [
              "                     Wert\n",
              "Date                     \n",
              "2015-01-01 00:00:00   3.4\n",
              "2015-01-01 00:15:00   3.3\n",
              "2015-01-01 00:30:00   3.2\n",
              "2015-01-01 00:45:00   3.1\n",
              "2015-01-01 01:00:00   3.1"
            ]
          },
          "metadata": {
            "tags": []
          },
          "execution_count": 9
        }
      ]
    },
    {
      "cell_type": "markdown",
      "metadata": {
        "id": "ZuJ81zxWwY10"
      },
      "source": [
        "**Hottest and Coldest day of the year**"
      ]
    },
    {
      "cell_type": "code",
      "metadata": {
        "id": "dv9vdnoInAfK"
      },
      "source": [
        "interpolate_data['year'] = interpolate_data.index.year\n",
        "df = interpolate_data.reset_index()\n",
        "idx = interpolate_data.groupby(['year'])['Wert'].transform(max) == interpolate_data['Wert']\n",
        "max_temp = interpolate_data[idx]\n",
        "idx = interpolate_data.groupby(['year'])['Wert'].transform(min) == interpolate_data['Wert']\n",
        "min_temp = interpolate_data[idx]\n"
      ],
      "execution_count": 10,
      "outputs": []
    },
    {
      "cell_type": "code",
      "metadata": {
        "colab": {
          "base_uri": "https://localhost:8080/",
          "height": 377
        },
        "id": "d4gJE6pRER_-",
        "outputId": "0a219d72-683e-483b-a661-c9b1d4bc8495"
      },
      "source": [
        "max_temp.to_csv('max_temp.csv')\n",
        "max_temp"
      ],
      "execution_count": 11,
      "outputs": [
        {
          "output_type": "execute_result",
          "data": {
            "text/html": [
              "<div>\n",
              "<style scoped>\n",
              "    .dataframe tbody tr th:only-of-type {\n",
              "        vertical-align: middle;\n",
              "    }\n",
              "\n",
              "    .dataframe tbody tr th {\n",
              "        vertical-align: top;\n",
              "    }\n",
              "\n",
              "    .dataframe thead th {\n",
              "        text-align: right;\n",
              "    }\n",
              "</style>\n",
              "<table border=\"1\" class=\"dataframe\">\n",
              "  <thead>\n",
              "    <tr style=\"text-align: right;\">\n",
              "      <th></th>\n",
              "      <th>Wert</th>\n",
              "      <th>year</th>\n",
              "    </tr>\n",
              "    <tr>\n",
              "      <th>Date</th>\n",
              "      <th></th>\n",
              "      <th></th>\n",
              "    </tr>\n",
              "  </thead>\n",
              "  <tbody>\n",
              "    <tr>\n",
              "      <th>2015-07-04 14:00:00</th>\n",
              "      <td>36.0</td>\n",
              "      <td>2015</td>\n",
              "    </tr>\n",
              "    <tr>\n",
              "      <th>2016-08-28 14:00:00</th>\n",
              "      <td>34.0</td>\n",
              "      <td>2016</td>\n",
              "    </tr>\n",
              "    <tr>\n",
              "      <th>2017-06-22 11:00:00</th>\n",
              "      <td>31.9</td>\n",
              "      <td>2017</td>\n",
              "    </tr>\n",
              "    <tr>\n",
              "      <th>2018-08-07 14:30:00</th>\n",
              "      <td>36.1</td>\n",
              "      <td>2018</td>\n",
              "    </tr>\n",
              "    <tr>\n",
              "      <th>2018-08-07 14:45:00</th>\n",
              "      <td>36.1</td>\n",
              "      <td>2018</td>\n",
              "    </tr>\n",
              "    <tr>\n",
              "      <th>2018-08-07 15:15:00</th>\n",
              "      <td>36.1</td>\n",
              "      <td>2018</td>\n",
              "    </tr>\n",
              "    <tr>\n",
              "      <th>2018-08-07 15:30:00</th>\n",
              "      <td>36.1</td>\n",
              "      <td>2018</td>\n",
              "    </tr>\n",
              "    <tr>\n",
              "      <th>2019-07-25 13:45:00</th>\n",
              "      <td>37.5</td>\n",
              "      <td>2019</td>\n",
              "    </tr>\n",
              "    <tr>\n",
              "      <th>2020-02-16 19:00:00</th>\n",
              "      <td>17.7</td>\n",
              "      <td>2020</td>\n",
              "    </tr>\n",
              "    <tr>\n",
              "      <th>2020-02-16 20:00:00</th>\n",
              "      <td>17.7</td>\n",
              "      <td>2020</td>\n",
              "    </tr>\n",
              "  </tbody>\n",
              "</table>\n",
              "</div>"
            ],
            "text/plain": [
              "                     Wert  year\n",
              "Date                           \n",
              "2015-07-04 14:00:00  36.0  2015\n",
              "2016-08-28 14:00:00  34.0  2016\n",
              "2017-06-22 11:00:00  31.9  2017\n",
              "2018-08-07 14:30:00  36.1  2018\n",
              "2018-08-07 14:45:00  36.1  2018\n",
              "2018-08-07 15:15:00  36.1  2018\n",
              "2018-08-07 15:30:00  36.1  2018\n",
              "2019-07-25 13:45:00  37.5  2019\n",
              "2020-02-16 19:00:00  17.7  2020\n",
              "2020-02-16 20:00:00  17.7  2020"
            ]
          },
          "metadata": {
            "tags": []
          },
          "execution_count": 11
        }
      ]
    },
    {
      "cell_type": "code",
      "metadata": {
        "colab": {
          "base_uri": "https://localhost:8080/",
          "height": 287
        },
        "id": "lFlAuzfQEUaA",
        "outputId": "b8bf6920-76dc-40a3-b6aa-f43d919653e8"
      },
      "source": [
        "min_temp.to_csv('min_temp.csv')\n",
        "min_temp"
      ],
      "execution_count": 12,
      "outputs": [
        {
          "output_type": "execute_result",
          "data": {
            "text/html": [
              "<div>\n",
              "<style scoped>\n",
              "    .dataframe tbody tr th:only-of-type {\n",
              "        vertical-align: middle;\n",
              "    }\n",
              "\n",
              "    .dataframe tbody tr th {\n",
              "        vertical-align: top;\n",
              "    }\n",
              "\n",
              "    .dataframe thead th {\n",
              "        text-align: right;\n",
              "    }\n",
              "</style>\n",
              "<table border=\"1\" class=\"dataframe\">\n",
              "  <thead>\n",
              "    <tr style=\"text-align: right;\">\n",
              "      <th></th>\n",
              "      <th>Wert</th>\n",
              "      <th>year</th>\n",
              "    </tr>\n",
              "    <tr>\n",
              "      <th>Date</th>\n",
              "      <th></th>\n",
              "      <th></th>\n",
              "    </tr>\n",
              "  </thead>\n",
              "  <tbody>\n",
              "    <tr>\n",
              "      <th>2015-02-07 02:15:00</th>\n",
              "      <td>-7.5</td>\n",
              "      <td>2015</td>\n",
              "    </tr>\n",
              "    <tr>\n",
              "      <th>2016-01-22 02:00:00</th>\n",
              "      <td>-12.0</td>\n",
              "      <td>2016</td>\n",
              "    </tr>\n",
              "    <tr>\n",
              "      <th>2017-01-06 05:00:00</th>\n",
              "      <td>-10.5</td>\n",
              "      <td>2017</td>\n",
              "    </tr>\n",
              "    <tr>\n",
              "      <th>2017-01-06 08:00:00</th>\n",
              "      <td>-10.5</td>\n",
              "      <td>2017</td>\n",
              "    </tr>\n",
              "    <tr>\n",
              "      <th>2018-03-02 06:00:00</th>\n",
              "      <td>-11.8</td>\n",
              "      <td>2018</td>\n",
              "    </tr>\n",
              "    <tr>\n",
              "      <th>2019-01-21 06:00:00</th>\n",
              "      <td>-9.0</td>\n",
              "      <td>2019</td>\n",
              "    </tr>\n",
              "    <tr>\n",
              "      <th>2020-01-01 08:00:00</th>\n",
              "      <td>-4.6</td>\n",
              "      <td>2020</td>\n",
              "    </tr>\n",
              "  </tbody>\n",
              "</table>\n",
              "</div>"
            ],
            "text/plain": [
              "                     Wert  year\n",
              "Date                           \n",
              "2015-02-07 02:15:00  -7.5  2015\n",
              "2016-01-22 02:00:00 -12.0  2016\n",
              "2017-01-06 05:00:00 -10.5  2017\n",
              "2017-01-06 08:00:00 -10.5  2017\n",
              "2018-03-02 06:00:00 -11.8  2018\n",
              "2019-01-21 06:00:00  -9.0  2019\n",
              "2020-01-01 08:00:00  -4.6  2020"
            ]
          },
          "metadata": {
            "tags": []
          },
          "execution_count": 12
        }
      ]
    },
    {
      "cell_type": "markdown",
      "metadata": {
        "id": "KP86KUFZvxhP"
      },
      "source": [
        "**Hotest Day of the year with time of day on x axis**"
      ]
    },
    {
      "cell_type": "code",
      "metadata": {
        "colab": {
          "base_uri": "https://localhost:8080/",
          "height": 288
        },
        "id": "F817TLUdHzo6",
        "outputId": "519a825f-faf2-4142-dc98-27ebfbc0434f"
      },
      "source": [
        "dates_n = max_temp.index.tolist()\n",
        "val = []\n",
        "for d in dates_n:\n",
        "  dts = str(d.to_pydatetime())\n",
        "  ds = datetime.strptime(dts, '%Y-%m-%d %H:%M:%S')\n",
        "  ds = ds.strftime('%m/%d/%y %H:%M:%S')\n",
        "  val.append(ds)\n",
        "val\n",
        "plt.plot_date(val, max_temp['Wert'], 'o')\n",
        "plt.gcf().autofmt_xdate()"
      ],
      "execution_count": 13,
      "outputs": [
        {
          "output_type": "display_data",
          "data": {
            "image/png": "[encoded data removed]",
            "text/plain": [
              "<Figure size 432x288 with 1 Axes>"
            ]
          },
          "metadata": {
            "tags": [],
            "needs_background": "light"
          }
        }
      ]
    },
    {
      "cell_type": "markdown",
      "metadata": {
        "id": "p52GW1yavh_N"
      },
      "source": [
        "**Coldest Day of the year with time of day on x axis**"
      ]
    },
    {
      "cell_type": "code",
      "metadata": {
        "colab": {
          "base_uri": "https://localhost:8080/",
          "height": 288
        },
        "id": "Ly6F5MMYIW-k",
        "outputId": "bc32f1c9-955e-44ec-ced7-02af9770edb5"
      },
      "source": [
        "dates_n = min_temp.index.tolist()\n",
        "val = []\n",
        "for d in dates_n:\n",
        "  dts = str(d.to_pydatetime())\n",
        "  ds = datetime.strptime(dts, '%Y-%m-%d %H:%M:%S')\n",
        "  ds = ds.strftime('%m/%d/%y %H:%M:%S')\n",
        "  val.append(ds)\n",
        "val\n",
        "plt.plot_date(val, min_temp['Wert'], 'o')\n",
        "plt.gcf().autofmt_xdate()"
      ],
      "execution_count": 14,
      "outputs": [
        {
          "output_type": "display_data",
          "data": {
            "image/png": "[encoded data removed]",
            "text/plain": [
              "<Figure size 432x288 with 1 Axes>"
            ]
          },
          "metadata": {
            "tags": [],
            "needs_background": "light"
          }
        }
      ]
    },
    {
      "cell_type": "markdown",
      "metadata": {
        "id": "WCDhp6A_upNL"
      },
      "source": [
        "**One More Analysis** \n",
        "\n",
        "---\n",
        "\n",
        "\n",
        "Here took the mean of weather data for every month in the particular year, and compare the mean weather of every month with another year. "
      ]
    },
    {
      "cell_type": "code",
      "metadata": {
        "id": "6Qeb0Zttaile"
      },
      "source": [
        "interpolate_data['month'] = interpolate_data.index.month\n",
        "p_data = interpolate_data.resample('M').mean()\n",
        "#p_data[\"Month_Year\"] = p_data[\"month\"].astype(str) + \"-\" + p_data[\"year\"].astype(str)\n",
        "p_data = p_data.reset_index()\n",
        "p_data = p_data[[\"month\", 'Wert']]"
      ],
      "execution_count": 15,
      "outputs": []
    },
    {
      "cell_type": "code",
      "metadata": {
        "id": "pyEcFv2ldCOY"
      },
      "source": [
        "year_2015 = p_data.iloc[:12,:]\n",
        "year_2016 = p_data.iloc[12:24,:]\n",
        "year_2017 = p_data.iloc[24:36,:]\n",
        "year_2018 = p_data.iloc[36:48,:]\n",
        "year_2019 = p_data.iloc[48:60,:]"
      ],
      "execution_count": 16,
      "outputs": []
    },
    {
      "cell_type": "code",
      "metadata": {
        "colab": {
          "base_uri": "https://localhost:8080/",
          "height": 592
        },
        "id": "GXybq8BLr-4K",
        "outputId": "5af663d2-8cfa-4693-bf3b-ba6ae82bb3c0"
      },
      "source": [
        "plt.rcParams[\"figure.figsize\"] = (15,10)\n",
        "plt.plot(year_2015['month'],year_2015['Wert'], label=\"Year 2015\")\n",
        "plt.plot(year_2015['month'],year_2016['Wert'], label=\"Year 2016\")\n",
        "plt.plot(year_2015['month'],year_2017['Wert'], label=\"Year 2017\")\n",
        "plt.plot(year_2015['month'],year_2018['Wert'], label=\"Year 2018\")\n",
        "plt.plot(year_2015['month'],year_2019['Wert'], label=\"Year 2019\")\n",
        "plt.legend(loc=\"upper right\")\n",
        "plt.show()\n"
      ],
      "execution_count": 17,
      "outputs": [
        {
          "output_type": "display_data",
          "data": {
            "image/png": "[encoded data removed]",
            "text/plain": [
              "<Figure size 1080x720 with 1 Axes>"
            ]
          },
          "metadata": {
            "tags": [],
            "needs_background": "light"
          }
        }
      ]
    }
  ]
}